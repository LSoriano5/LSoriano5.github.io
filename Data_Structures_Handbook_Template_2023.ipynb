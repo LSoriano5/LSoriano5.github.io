{
  "nbformat": 4,
  "nbformat_minor": 0,
  "metadata": {
    "colab": {
      "provenance": [],
      "toc_visible": true,
      "include_colab_link": true
    },
    "kernelspec": {
      "name": "python3",
      "display_name": "Python 3"
    }
  },
  "cells": [
    {
      "cell_type": "markdown",
      "metadata": {
        "id": "view-in-github",
        "colab_type": "text"
      },
      "source": [
        "<a href=\"https://colab.research.google.com/github/LSoriano5/LSoriano5.github.io/blob/LSoriano5.github.io/Data_Structures_Handbook_Template_2023.ipynb\" target=\"_parent\"><img src=\"https://colab.research.google.com/assets/colab-badge.svg\" alt=\"Open In Colab\"/></a>"
      ]
    },
    {
      "cell_type": "markdown",
      "metadata": {
        "id": "W5SAJnnfs2f9"
      },
      "source": [
        "# Introduction\n",
        "Describe the purpose of the handbook."
      ]
    },
    {
      "cell_type": "markdown",
      "metadata": {
        "id": "MKpKXt77s456"
      },
      "source": [
        "## Why are Data Structures important?"
      ]
    },
    {
      "cell_type": "markdown",
      "metadata": {
        "id": "MmrgF4sMtUTN"
      },
      "source": [
        "# Dynamic Array"
      ]
    },
    {
      "cell_type": "markdown",
      "metadata": {
        "id": "TIh3hkG-t25g"
      },
      "source": [
        "## Concept\n",
        "\n",
        "Describe the data structure conceptually. What is it? What is it good for? Include sketches and diagrams that help illustrate your point."
      ]
    },
    {
      "cell_type": "markdown",
      "source": [
        "## Abstract Data Type: API & Efficiency\n",
        "\n",
        "What is the abstract data type for this data structure? Describe the operations you can perform with the data structure, including the typical name and what the operation does. Describe the algorithmic complexity of each operation in Big O notation."
      ],
      "metadata": {
        "id": "63qg51G0f_n-"
      }
    },
    {
      "cell_type": "code",
      "source": [
        "list=[\"apples\", \"bananas\", \"no doubt\"]\n",
        "...."
      ],
      "metadata": {
        "id": "zOCPKc9YXZ8c"
      },
      "execution_count": null,
      "outputs": []
    },
    {
      "cell_type": "markdown",
      "metadata": {
        "id": "qlZGVsiNBk-N"
      },
      "source": [
        "## Implementation & Efficiency\n",
        "\n",
        "Discuss the typical implementation of the data structure (eg. \"typically implemented with a binary heap.\") and explain how the implementation influences the algorithmic complexity of the operations. Explain _why_ the API operations perform in the time complexity they do, in terms of the implementation. Include snippets of code from your implementation to explain the _why_\n",
        "\n",
        "The following code implements my *TODO* method from my *TODO* implementation.  This code's time complexity is *TODO* because *TODO*.\n",
        "\n"
      ]
    },
    {
      "cell_type": "code",
      "source": [
        "def append(self, value):\n",
        "  ..."
      ],
      "metadata": {
        "id": "IdMZ12OhXGWQ"
      },
      "execution_count": null,
      "outputs": []
    },
    {
      "cell_type": "markdown",
      "source": [
        "##Use cases\n",
        "When is this data structure useful. Give some examples of when you might reach for this data structure when solving a problem and/or some problems that typically utilize this data structure."
      ],
      "metadata": {
        "id": "22gf5l6-iphU"
      }
    },
    {
      "cell_type": "markdown",
      "source": [
        "#Searching Algortihms"
      ],
      "metadata": {
        "id": "p5uoscxi232K"
      }
    },
    {
      "cell_type": "markdown",
      "source": [
        "##Linear Search\n",
        "\n",
        "*   Describe how it works\n",
        "*   Describe its time complexity\n",
        "\n",
        "\n"
      ],
      "metadata": {
        "id": "YlnqdArL28wx"
      }
    },
    {
      "cell_type": "markdown",
      "source": [
        "##Binary Search\n",
        "\n",
        "\n",
        "*   Describe how it works\n",
        "*   Describe its time complexity   "
      ],
      "metadata": {
        "id": "aqbnK95m3PfH"
      }
    },
    {
      "cell_type": "markdown",
      "source": [
        "#Sorting Algortihms"
      ],
      "metadata": {
        "id": "ZglZVy5l3hcZ"
      }
    },
    {
      "cell_type": "markdown",
      "source": [
        "##Insertion Sort\n",
        "\n",
        "* Describe how it works\n",
        "* Describe its time complexity\n",
        "* Describe its space complexity\n",
        "* Describe its benefits & drawbacks\n",
        "\n"
      ],
      "metadata": {
        "id": "XgVEur5Y3p-N"
      }
    },
    {
      "cell_type": "markdown",
      "source": [
        "##Selection Sort\n",
        "\n",
        "* Describe how it works\n",
        "* Describe its time complexity\n",
        "* Describe its space complexity\n",
        "* Describe its benefits & drawbacks\n",
        "\n"
      ],
      "metadata": {
        "id": "W9P84vpn-mAr"
      }
    },
    {
      "cell_type": "markdown",
      "source": [
        "##Merge Sort\n",
        "\n",
        "* Describe how it works\n",
        "* Describe its time complexity\n",
        "* Describe its space complexity\n",
        "* Describe its benefits & drawbacks\n",
        "\n"
      ],
      "metadata": {
        "id": "Ps0Z8_jW-mKl"
      }
    },
    {
      "cell_type": "markdown",
      "source": [
        "##Quick Sort\n",
        "\n",
        "* Describe how it works\n",
        "* Describe its time complexity\n",
        "* Describe its space complexity\n",
        "* Describe its benefits & drawbacks\n",
        "\n"
      ],
      "metadata": {
        "id": "473llwqR-mSR"
      }
    },
    {
      "cell_type": "markdown",
      "metadata": {
        "id": "47Y6aHONDYW1"
      },
      "source": [
        "# Hash Table"
      ]
    },
    {
      "cell_type": "markdown",
      "metadata": {
        "id": "ZKYanhqqDuGA"
      },
      "source": [
        "## Concept\n",
        "\n",
        "Describe the data structure conceptually. What is it? What is it good for? Include sketches and diagrams that help illustrate your point."
      ]
    },
    {
      "cell_type": "markdown",
      "source": [
        "## Abstract Data Type: API & Efficiency\n",
        "\n",
        "What is the abstract data type for this data structure? Describe the operations you can perform with the data structure, including the typical name and what the operation does. Describe the algorithmic complexity of each operation in Big O notation."
      ],
      "metadata": {
        "id": "k2E4JVC_DuGA"
      }
    },
    {
      "cell_type": "code",
      "source": [
        "list=[\"apples\", \"bananas\", \"no doubt\"]\n",
        "...."
      ],
      "metadata": {
        "id": "3ydRAkdDDuGA"
      },
      "execution_count": null,
      "outputs": []
    },
    {
      "cell_type": "markdown",
      "metadata": {
        "id": "CktT_O-uEL8R"
      },
      "source": [
        "## Implementation & Efficiency\n",
        "\n",
        "Discuss the typical implementation of the data structure (eg. \"typically implemented with a binary heap.\") and explain how the implementation influences the algorithmic complexity of the operations. Explain _why_ the API operations perform in the time complexity they do, in terms of the implementation. Include snippets of code from your implementation to explain the _why_\n",
        "\n",
        "The following code implements my *TODO* method from my *TODO* implementation.  This code's time complexity is *TODO* because *TODO*.\n",
        "\n"
      ]
    },
    {
      "cell_type": "code",
      "source": [
        "def append(self, value):\n",
        "  ..."
      ],
      "metadata": {
        "id": "kT5X6s3hEPk5"
      },
      "execution_count": null,
      "outputs": []
    },
    {
      "cell_type": "markdown",
      "source": [
        "##Use cases\n",
        "When is this data structure useful. Give some examples of when you might reach for this data structure when solving a problem and/or some problems that typically utilize this data structure."
      ],
      "metadata": {
        "id": "caXr_hFkETVh"
      }
    },
    {
      "cell_type": "code",
      "source": [],
      "metadata": {
        "id": "j1PL-coyeWyQ"
      },
      "execution_count": null,
      "outputs": []
    }
  ]
}